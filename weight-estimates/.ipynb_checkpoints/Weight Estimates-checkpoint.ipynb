{
 "cells": [
  {
   "cell_type": "code",
   "execution_count": 1,
   "metadata": {
    "code_folding": [
     0
    ],
    "collapsed": true
   },
   "outputs": [],
   "source": [
    "# Ipython preamble\n",
    "%matplotlib inline\n",
    "import numpy as np\n",
    "import pandas as pd\n",
    "import matplotlib.pyplot as plt\n",
    "import matplotlib\n",
    "\n",
    "font = {'size'   : 12}\n",
    "\n",
    "matplotlib.rc('font', **font)\n",
    "import warnings\n",
    "warnings.filterwarnings('ignore')"
   ]
  },
  {
   "cell_type": "markdown",
   "metadata": {},
   "source": [
    "# Aim\n",
    "\n",
    "The aim of this jupyter notebook is to provide a tool that enables quick evaluation of the centre of gravity of a sailing yacht model.\n",
    "\n",
    "# Objectives\n",
    "\n",
    "1. To contain notes on the physical platforms used for the sailing-robot challenges\n",
    "1. Provide a summary of the physical characteristics of the sailing robot platforms\n",
    "    1. The main dimensions of the platform\n",
    "    1. The weight table of the platform\n",
    "1. Provide a straightforwards method for evaluating the influence of changing the location of objects mounted on the platform.\n",
    "1. Provide an estimate of the stability of the sailing yacht\n",
    "\n",
    "Need to remember to save a copy of the notebook in pdf form so that the analysis can be viewed without having to run a jupyter notebook server.\n",
    "\n",
    "# Physical Platforms\n",
    "\n",
    "There are currently three platforms in use:\n",
    "\n",
    "1. A model laser\n",
    "1. The Black Python\n",
    "1. New build\n",
    "\n",
    "## Identifying required information\n",
    "\n",
    "### Main dimensions\n",
    "\n",
    "1. Physical characteristics of hull form:\n",
    "    - LOA, Length overall (m)\n",
    "    - B, Maximum beam (m)\n",
    "    - Tc, Canoe draft (m)\n",
    "    - T, Maximum draft (m)\n",
    "1. Physical characteristics of sail plans\n",
    "\n",
    "\n",
    "### Weight estimates\n",
    "\n",
    "At the initial stage only the dimensions of items on board, along with their position and weight are required. There needs to be some sort of sketch, whether CAD or paper, which accompanies this analysis to allow clarity.\n",
    "\n",
    "Requirement to break items into different weight groups. Weight groups for consideration include:\n",
    "\n",
    "1. Structural\n",
    "    - Hull\n",
    "    - Mast\n",
    "    - \n",
    "1. Propulsion\n",
    "1. Control\n",
    "    - Control surface (rudder)\n",
    "    - Electro-mechanical (winches etc)\n",
    "    - Sensors (wind vane etc)\n",
    "    - Cabling\n",
    "    - Control units (raspberry pi etc)\n",
    "\n",
    "Information required:\n",
    "\n",
    "- Item name\n",
    "- Item classification\n",
    "- Dimensions and centre of gravity \n",
    "- Location from the deck (vertical position)\n",
    "- Location from aft of deck (longitudinal position)\n",
    "- Location from centerline (transverse position)"
   ]
  },
  {
   "cell_type": "code",
   "execution_count": null,
   "metadata": {
    "collapsed": true
   },
   "outputs": [],
   "source": []
  }
 ],
 "metadata": {
  "kernelspec": {
   "display_name": "Python 3",
   "language": "python",
   "name": "python3"
  },
  "language_info": {
   "codemirror_mode": {
    "name": "ipython",
    "version": 3
   },
   "file_extension": ".py",
   "mimetype": "text/x-python",
   "name": "python",
   "nbconvert_exporter": "python",
   "pygments_lexer": "ipython3",
   "version": "3.5.0rc4"
  },
  "latex_envs": {
   "bibliofile": "biblio.bib",
   "cite_by": "apalike",
   "current_citInitial": 1,
   "eqLabelWithNumbers": true,
   "eqNumInitial": 0
  },
  "toc": {
   "nav_menu": {
    "height": "120px",
    "width": "252px"
   },
   "navigate_menu": true,
   "number_sections": true,
   "sideBar": true,
   "threshold": 4,
   "toc_cell": false,
   "toc_section_display": "block",
   "toc_window_display": false
  }
 },
 "nbformat": 4,
 "nbformat_minor": 0
}
